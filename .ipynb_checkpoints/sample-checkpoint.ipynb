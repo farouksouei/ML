{
 "cells": [
  {
   "metadata": {},
   "cell_type": "markdown",
   "source": "# Importing Libraries",
   "id": "8a77807f92f26ee"
  },
  {
   "metadata": {
    "ExecuteTime": {
     "end_time": "2025-03-13T00:13:49.856289Z",
     "start_time": "2025-03-13T00:13:49.844251Z"
    }
   },
   "cell_type": "code",
   "source": [
    "import pandas as pd\n",
    "import numpy as np\n",
    "import matplotlib.pyplot as plt\n",
    "import seaborn as sns\n",
    "from sklearn.feature_extraction.text import CountVectorizer, TfidfVectorizer\n",
    "from sklearn.cluster import KMeans\n",
    "from sklearn.svm import SVC\n",
    "from sklearn.model_selection import train_test_split\n",
    "from sklearn.metrics import confusion_matrix, classification_report\n",
    "from sklearn.preprocessing import StandardScaler\n",
    "import nltk\n",
    "from nltk.tokenize import word_tokenize\n",
    "from nltk.corpus import stopwords\n",
    "from nltk.stem import WordNetLemmatizer\n",
    "import re\n",
    "import warnings\n",
    "warnings.filterwarnings('ignore')\n",
    "\n",
    "# For NLP chatbot\n",
    "from sklearn.metrics.pairwise import cosine_similarity\n",
    "import random\n",
    "\n",
    "# Download necessary NLTK resources\n",
    "nltk.download('punkt')\n",
    "nltk.download('stopwords')\n",
    "nltk.download('wordnet')"
   ],
   "id": "fbc121e30a2defb3",
   "outputs": [
    {
     "name": "stderr",
     "output_type": "stream",
     "text": [
      "[nltk_data] Downloading package punkt to\n",
      "[nltk_data]     C:\\Users\\farou\\AppData\\Roaming\\nltk_data...\n",
      "[nltk_data]   Package punkt is already up-to-date!\n",
      "[nltk_data] Downloading package stopwords to\n",
      "[nltk_data]     C:\\Users\\farou\\AppData\\Roaming\\nltk_data...\n",
      "[nltk_data]   Package stopwords is already up-to-date!\n",
      "[nltk_data] Downloading package wordnet to\n",
      "[nltk_data]     C:\\Users\\farou\\AppData\\Roaming\\nltk_data...\n",
      "[nltk_data]   Package wordnet is already up-to-date!\n"
     ]
    },
    {
     "data": {
      "text/plain": [
       "True"
      ]
     },
     "execution_count": 12,
     "metadata": {},
     "output_type": "execute_result"
    }
   ],
   "execution_count": 12
  },
  {
   "metadata": {},
   "cell_type": "markdown",
   "source": "# Data Loading and Exploration\n",
   "id": "6e16c82b9c82a08f"
  },
  {
   "metadata": {
    "ExecuteTime": {
     "end_time": "2025-03-13T00:13:49.904223Z",
     "start_time": "2025-03-13T00:13:49.878008Z"
    }
   },
   "cell_type": "code",
   "source": "df = pd.read_csv('data/edited_skill_exchange_dataset.csv')",
   "id": "c3c4253ba58939f6",
   "outputs": [],
   "execution_count": 13
  },
  {
   "metadata": {},
   "cell_type": "markdown",
   "source": [
    "\n",
    "# Display basic information about the dataset\n"
   ],
   "id": "d4d3c9e161375343"
  },
  {
   "metadata": {
    "ExecuteTime": {
     "end_time": "2025-03-13T00:13:49.931197Z",
     "start_time": "2025-03-13T00:13:49.920191Z"
    }
   },
   "cell_type": "code",
   "source": [
    "print(\"Dataset Shape:\", df.shape)\n",
    "print(\"\\nData Types:\")\n",
    "print(df.dtypes)\n",
    "print(\"\\nSample Data:\")\n",
    "print(df.head())"
   ],
   "id": "eb947f599c010912",
   "outputs": [
    {
     "name": "stdout",
     "output_type": "stream",
     "text": [
      "Dataset Shape: (10000, 6)\n",
      "\n",
      "Data Types:\n",
      "user_id            int64\n",
      "joinedDate        object\n",
      "joinedCourses     object\n",
      "skills            object\n",
      "desired_skills    object\n",
      "isVerified          bool\n",
      "dtype: object\n",
      "\n",
      "Sample Data:\n",
      "   user_id  joinedDate                            joinedCourses  \\\n",
      "0        1  2022-08-28  Machine Learning, CSS, Excel, SQL, HTML   \n",
      "1        2  2023-12-04  Data Science, Excel, Python, JavaScript   \n",
      "2        3  2023-04-10          JavaScript, Python, Excel, Java   \n",
      "3        4  2022-01-30              AI, Machine Learning, Excel   \n",
      "4        5  2022-09-07                                   Python   \n",
      "\n",
      "                               skills  \\\n",
      "0                           HTML, SQL   \n",
      "1   HTML, CSS, JavaScript, Excel, SQL   \n",
      "2                     HTML, CSS, Java   \n",
      "3  HTML, Excel, SQL, Java, Blockchain   \n",
      "4                 CSS, JavaScript, AI   \n",
      "\n",
      "                                      desired_skills  isVerified  \n",
      "0  CSS, Java, Machine Learning, Blockchain, Data ...       False  \n",
      "1              JavaScript, Python, Java, Node.js, AI        True  \n",
      "2                                  CSS, SQL, Node.js        True  \n",
      "3  SQL, Node.js, Machine Learning, Blockchain, Da...        True  \n",
      "4                    HTML, CSS, Java, AI, Blockchain       False  \n"
     ]
    }
   ],
   "execution_count": 14
  },
  {
   "metadata": {},
   "cell_type": "markdown",
   "source": "## 2. Data Preparation and Cleaning\n",
   "id": "e82f1d3247de28ea"
  },
  {
   "metadata": {
    "ExecuteTime": {
     "end_time": "2025-03-13T00:13:50.050859Z",
     "start_time": "2025-03-13T00:13:49.956253Z"
    }
   },
   "cell_type": "code",
   "source": [
    "# Convert joinedDate to datetime\n",
    "df['joinedDate'] = pd.to_datetime(df['joinedDate'])\n",
    "\n",
    "# Calculate membership duration (in days)\n",
    "df['membershipDuration'] = (pd.Timestamp('2025-03-12') - df['joinedDate']).dt.days\n",
    "\n",
    "# Function to clean and standardize comma-separated text fields\n",
    "def clean_text_list(text):\n",
    "    if isinstance(text, str):\n",
    "        # Split by comma, strip whitespace, and rejoin\n",
    "        items = [item.strip() for item in text.split(',')]\n",
    "        return ', '.join(items)\n",
    "    return text\n",
    "\n",
    "# Apply cleaning to text columns\n",
    "for col in ['joinedCourses', 'skills', 'desired_skills']:\n",
    "    df[col] = df[col].apply(clean_text_list)\n",
    "\n",
    "# Create count features\n",
    "df['course_count'] = df['joinedCourses'].apply(lambda x: len(x.split(',')) if isinstance(x, str) else 0)\n",
    "df['skills_count'] = df['skills'].apply(lambda x: len(x.split(',')) if isinstance(x, str) else 0)\n",
    "df['desired_skills_count'] = df['desired_skills'].apply(lambda x: len(x.split(',')) if isinstance(x, str) else 0)\n",
    "\n",
    "# Display the cleaned data\n",
    "print(\"\\nCleaned Dataset:\")\n",
    "print(df.head())"
   ],
   "id": "577b2c28632f85ee",
   "outputs": [
    {
     "name": "stdout",
     "output_type": "stream",
     "text": [
      "\n",
      "Cleaned Dataset:\n",
      "   user_id joinedDate                            joinedCourses  \\\n",
      "0        1 2022-08-28  Machine Learning, CSS, Excel, SQL, HTML   \n",
      "1        2 2023-12-04  Data Science, Excel, Python, JavaScript   \n",
      "2        3 2023-04-10          JavaScript, Python, Excel, Java   \n",
      "3        4 2022-01-30              AI, Machine Learning, Excel   \n",
      "4        5 2022-09-07                                   Python   \n",
      "\n",
      "                               skills  \\\n",
      "0                           HTML, SQL   \n",
      "1   HTML, CSS, JavaScript, Excel, SQL   \n",
      "2                     HTML, CSS, Java   \n",
      "3  HTML, Excel, SQL, Java, Blockchain   \n",
      "4                 CSS, JavaScript, AI   \n",
      "\n",
      "                                      desired_skills  isVerified  \\\n",
      "0  CSS, Java, Machine Learning, Blockchain, Data ...       False   \n",
      "1              JavaScript, Python, Java, Node.js, AI        True   \n",
      "2                                  CSS, SQL, Node.js        True   \n",
      "3  SQL, Node.js, Machine Learning, Blockchain, Da...        True   \n",
      "4                    HTML, CSS, Java, AI, Blockchain       False   \n",
      "\n",
      "   membershipDuration  course_count  skills_count  desired_skills_count  \n",
      "0                 927             5             2                     5  \n",
      "1                 464             4             5                     5  \n",
      "2                 702             4             3                     3  \n",
      "3                1137             3             5                     5  \n",
      "4                 917             1             3                     5  \n"
     ]
    }
   ],
   "execution_count": 15
  },
  {
   "metadata": {},
   "cell_type": "markdown",
   "source": [
    "\n",
    "## 3. Data Understanding and Visualization"
   ],
   "id": "e697925a143e0712"
  },
  {
   "metadata": {
    "ExecuteTime": {
     "end_time": "2025-03-13T00:13:51.480055Z",
     "start_time": "2025-03-13T00:13:50.081776Z"
    }
   },
   "cell_type": "code",
   "source": [
    "plt.figure(figsize=(15, 10))\n",
    "\n",
    "# Distribution of course counts\n",
    "plt.subplot(2, 2, 1)\n",
    "sns.histplot(df['course_count'], kde=True)\n",
    "plt.title('Distribution of Course Counts')\n",
    "plt.xlabel('Number of Courses')\n",
    "plt.ylabel('Frequency')\n",
    "\n",
    "# Distribution of skill counts\n",
    "plt.subplot(2, 2, 2)\n",
    "sns.histplot(df['skills_count'], kde=True)\n",
    "plt.title('Distribution of Skill Counts')\n",
    "plt.xlabel('Number of Skills')\n",
    "plt.ylabel('Frequency')\n",
    "\n",
    "# Distribution of desired skill counts\n",
    "plt.subplot(2, 2, 3)\n",
    "sns.histplot(df['desired_skills_count'], kde=True)\n",
    "plt.title('Distribution of Desired Skill Counts')\n",
    "plt.xlabel('Number of Desired Skills')\n",
    "plt.ylabel('Frequency')\n",
    "\n",
    "# Membership duration distribution\n",
    "plt.subplot(2, 2, 4)\n",
    "sns.histplot(df['membershipDuration'], kde=True)\n",
    "plt.title('Distribution of Membership Duration')\n",
    "plt.xlabel('Days')\n",
    "plt.ylabel('Frequency')\n",
    "\n",
    "plt.tight_layout()\n",
    "plt.savefig('distributions.png')\n",
    "plt.close()"
   ],
   "id": "8a7ca75d2db4fcb",
   "outputs": [],
   "execution_count": 16
  },
  {
   "metadata": {},
   "cell_type": "markdown",
   "source": "# Function to extract all unique skills/courses from a column",
   "id": "9065e128745242c7"
  },
  {
   "metadata": {
    "ExecuteTime": {
     "end_time": "2025-03-13T00:13:51.495014Z",
     "start_time": "2025-03-13T00:13:51.488741Z"
    }
   },
   "cell_type": "code",
   "source": [
    "def extract_unique_items(df, column_name):\n",
    "    all_items = []\n",
    "    for items_str in df[column_name]:\n",
    "        if isinstance(items_str, str):\n",
    "            items = [item.strip() for item in items_str.split(',')]\n",
    "            all_items.extend(items)\n",
    "    return list(set(all_items))"
   ],
   "id": "33b46cd18c959443",
   "outputs": [],
   "execution_count": 17
  },
  {
   "metadata": {},
   "cell_type": "markdown",
   "source": "# Get unique items\n",
   "id": "62cb98c4bcb58b41"
  },
  {
   "metadata": {
    "ExecuteTime": {
     "end_time": "2025-03-13T00:13:51.564752Z",
     "start_time": "2025-03-13T00:13:51.513963Z"
    }
   },
   "cell_type": "code",
   "source": [
    "all_courses = extract_unique_items(df, 'joinedCourses')\n",
    "all_skills = extract_unique_items(df, 'skills')\n",
    "all_desired_skills = extract_unique_items(df, 'desired_skills')\n",
    "print(f\"\\nTotal unique courses: {len(all_courses)}\")\n",
    "print(f\"Total unique skills: {len(all_skills)}\")\n",
    "print(f\"Total unique desired skills: {len(all_desired_skills)}\")"
   ],
   "id": "883f21790111ea3d",
   "outputs": [
    {
     "name": "stdout",
     "output_type": "stream",
     "text": [
      "\n",
      "Total unique courses: 12\n",
      "Total unique skills: 13\n",
      "Total unique desired skills: 13\n"
     ]
    }
   ],
   "execution_count": 18
  },
  {
   "metadata": {},
   "cell_type": "markdown",
   "source": "# Top courses visualization",
   "id": "dc0ae70756391d2"
  },
  {
   "metadata": {
    "ExecuteTime": {
     "end_time": "2025-03-13T00:17:44.829493Z",
     "start_time": "2025-03-13T00:17:43.855749Z"
    }
   },
   "cell_type": "code",
   "source": [
    "def plot_top_items(df, column_name, title, n=10):\n",
    "    all_items = []\n",
    "    for items_str in df[column_name]:\n",
    "        if isinstance(items_str, str):\n",
    "            items = [item.strip() for item in items_str.split(',')]\n",
    "            all_items.extend(items)\n",
    "\n",
    "    item_counts = pd.Series(all_items).value_counts().head(n)\n",
    "\n",
    "    plt.figure(figsize=(12, 6))\n",
    "    sns.barplot(x=item_counts.values, y=item_counts.index)\n",
    "    plt.title(f'Top {n} {title}')\n",
    "    plt.xlabel('Count')\n",
    "    plt.tight_layout()\n",
    "    plt.savefig(f'top_{column_name}.png')\n",
    "    plt.close()\n",
    "\n",
    "# Plot top items for each category\n",
    "plot_top_items(df, 'joinedCourses', 'Courses')\n",
    "plot_top_items(df, 'skills', 'Skills')\n",
    "plot_top_items(df, 'desired_skills', 'Desired Skills')"
   ],
   "id": "7709cad99d6f128",
   "outputs": [],
   "execution_count": 19
  }
 ],
 "metadata": {
  "kernelspec": {
   "display_name": "Python 3",
   "language": "python",
   "name": "python3"
  },
  "language_info": {
   "codemirror_mode": {
    "name": "ipython",
    "version": 2
   },
   "file_extension": ".py",
   "mimetype": "text/x-python",
   "name": "python",
   "nbconvert_exporter": "python",
   "pygments_lexer": "ipython2",
   "version": "2.7.6"
  }
 },
 "nbformat": 4,
 "nbformat_minor": 5
}
